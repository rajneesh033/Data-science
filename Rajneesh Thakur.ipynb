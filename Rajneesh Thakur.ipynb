{
 "cells": [
  {
   "cell_type": "code",
   "execution_count": 1,
   "metadata": {},
   "outputs": [],
   "source": [
    "import numpy as np\n",
    "import pandas as pd"
   ]
  },
  {
   "cell_type": "code",
   "execution_count": 2,
   "metadata": {},
   "outputs": [],
   "source": [
    "data=pd.read_csv(\"Data_MFR_310.csv\")"
   ]
  },
  {
   "cell_type": "code",
   "execution_count": 3,
   "metadata": {
    "scrolled": true
   },
   "outputs": [
    {
     "data": {
      "text/html": [
       "<div>\n",
       "<style scoped>\n",
       "    .dataframe tbody tr th:only-of-type {\n",
       "        vertical-align: middle;\n",
       "    }\n",
       "\n",
       "    .dataframe tbody tr th {\n",
       "        vertical-align: top;\n",
       "    }\n",
       "\n",
       "    .dataframe thead th {\n",
       "        text-align: right;\n",
       "    }\n",
       "</style>\n",
       "<table border=\"1\" class=\"dataframe\">\n",
       "  <thead>\n",
       "    <tr style=\"text-align: right;\">\n",
       "      <th></th>\n",
       "      <th>Unnamed: 0</th>\n",
       "      <th>513FC31103.pv</th>\n",
       "      <th>513HC31114-5.mv</th>\n",
       "      <th>513PC31201.pv</th>\n",
       "      <th>513LC31202.pv</th>\n",
       "      <th>513FC31409.pv</th>\n",
       "      <th>513FC31114-5.pv</th>\n",
       "      <th>513TC31220.pv</th>\n",
       "      <th>MFR</th>\n",
       "    </tr>\n",
       "  </thead>\n",
       "  <tbody>\n",
       "    <tr>\n",
       "      <th>0</th>\n",
       "      <td>04-05-2018 19:45</td>\n",
       "      <td>24856.584</td>\n",
       "      <td>0.153</td>\n",
       "      <td>30.414835</td>\n",
       "      <td>79.657906</td>\n",
       "      <td>50850.578</td>\n",
       "      <td>0.163994</td>\n",
       "      <td>80.399605</td>\n",
       "      <td>3.4</td>\n",
       "    </tr>\n",
       "    <tr>\n",
       "      <th>1</th>\n",
       "      <td>04-05-2018 21:45</td>\n",
       "      <td>25537.250</td>\n",
       "      <td>0.153</td>\n",
       "      <td>30.527121</td>\n",
       "      <td>78.532608</td>\n",
       "      <td>42229.813</td>\n",
       "      <td>0.129739</td>\n",
       "      <td>78.861328</td>\n",
       "      <td>3.2</td>\n",
       "    </tr>\n",
       "    <tr>\n",
       "      <th>2</th>\n",
       "      <td>04-05-2018 23:45</td>\n",
       "      <td>25689.266</td>\n",
       "      <td>0.153</td>\n",
       "      <td>30.356180</td>\n",
       "      <td>78.842636</td>\n",
       "      <td>45335.852</td>\n",
       "      <td>0.150003</td>\n",
       "      <td>78.818115</td>\n",
       "      <td>3.2</td>\n",
       "    </tr>\n",
       "    <tr>\n",
       "      <th>3</th>\n",
       "      <td>04-06-2018 01:45</td>\n",
       "      <td>25098.754</td>\n",
       "      <td>0.153</td>\n",
       "      <td>30.894308</td>\n",
       "      <td>79.173500</td>\n",
       "      <td>43077.016</td>\n",
       "      <td>0.151543</td>\n",
       "      <td>79.022720</td>\n",
       "      <td>3.1</td>\n",
       "    </tr>\n",
       "    <tr>\n",
       "      <th>4</th>\n",
       "      <td>04-06-2018 03:45</td>\n",
       "      <td>24853.941</td>\n",
       "      <td>0.150</td>\n",
       "      <td>30.680647</td>\n",
       "      <td>78.677299</td>\n",
       "      <td>40404.387</td>\n",
       "      <td>0.122582</td>\n",
       "      <td>79.038483</td>\n",
       "      <td>3.3</td>\n",
       "    </tr>\n",
       "  </tbody>\n",
       "</table>\n",
       "</div>"
      ],
      "text/plain": [
       "         Unnamed: 0  513FC31103.pv  513HC31114-5.mv  513PC31201.pv  \\\n",
       "0  04-05-2018 19:45      24856.584            0.153      30.414835   \n",
       "1  04-05-2018 21:45      25537.250            0.153      30.527121   \n",
       "2  04-05-2018 23:45      25689.266            0.153      30.356180   \n",
       "3  04-06-2018 01:45      25098.754            0.153      30.894308   \n",
       "4  04-06-2018 03:45      24853.941            0.150      30.680647   \n",
       "\n",
       "   513LC31202.pv  513FC31409.pv  513FC31114-5.pv  513TC31220.pv  MFR  \n",
       "0      79.657906      50850.578         0.163994      80.399605  3.4  \n",
       "1      78.532608      42229.813         0.129739      78.861328  3.2  \n",
       "2      78.842636      45335.852         0.150003      78.818115  3.2  \n",
       "3      79.173500      43077.016         0.151543      79.022720  3.1  \n",
       "4      78.677299      40404.387         0.122582      79.038483  3.3  "
      ]
     },
     "execution_count": 3,
     "metadata": {},
     "output_type": "execute_result"
    }
   ],
   "source": [
    "data.head()"
   ]
  },
  {
   "cell_type": "code",
   "execution_count": 4,
   "metadata": {},
   "outputs": [
    {
     "name": "stdout",
     "output_type": "stream",
     "text": [
      "<class 'pandas.core.frame.DataFrame'>\n",
      "RangeIndex: 2564 entries, 0 to 2563\n",
      "Data columns (total 9 columns):\n",
      " #   Column           Non-Null Count  Dtype  \n",
      "---  ------           --------------  -----  \n",
      " 0   Unnamed: 0       2564 non-null   object \n",
      " 1   513FC31103.pv    2486 non-null   float64\n",
      " 2   513HC31114-5.mv  2560 non-null   float64\n",
      " 3   513PC31201.pv    2484 non-null   float64\n",
      " 4   513LC31202.pv    2484 non-null   float64\n",
      " 5   513FC31409.pv    2484 non-null   float64\n",
      " 6   513FC31114-5.pv  2486 non-null   float64\n",
      " 7   513TC31220.pv    2484 non-null   float64\n",
      " 8   MFR              2564 non-null   float64\n",
      "dtypes: float64(8), object(1)\n",
      "memory usage: 180.4+ KB\n"
     ]
    }
   ],
   "source": [
    "data.info()"
   ]
  },
  {
   "cell_type": "code",
   "execution_count": 5,
   "metadata": {},
   "outputs": [],
   "source": [
    "data.rename(columns={\n",
    "'513FC31103.pv':'Propylene flow',\n",
    "'513HC31114-5.mv':'Hydrogen ratio',\n",
    "'513PC31201.pv':'Pressure controller',\n",
    "'513LC31202.pv':'Level controller',\n",
    "'513FC31409.pv':'Liquefied Recycle gas to R-310 dome top',\n",
    "'513FC31114-5.pv':'Hydrogen Flow',\n",
    "'513TC31220.pv':'Temperature controller'\n",
    "  },inplace=True)"
   ]
  },
  {
   "cell_type": "code",
   "execution_count": 6,
   "metadata": {},
   "outputs": [
    {
     "data": {
      "text/html": [
       "<div>\n",
       "<style scoped>\n",
       "    .dataframe tbody tr th:only-of-type {\n",
       "        vertical-align: middle;\n",
       "    }\n",
       "\n",
       "    .dataframe tbody tr th {\n",
       "        vertical-align: top;\n",
       "    }\n",
       "\n",
       "    .dataframe thead th {\n",
       "        text-align: right;\n",
       "    }\n",
       "</style>\n",
       "<table border=\"1\" class=\"dataframe\">\n",
       "  <thead>\n",
       "    <tr style=\"text-align: right;\">\n",
       "      <th></th>\n",
       "      <th>Unnamed: 0</th>\n",
       "      <th>Propylene flow</th>\n",
       "      <th>Hydrogen ratio</th>\n",
       "      <th>Pressure controller</th>\n",
       "      <th>Level controller</th>\n",
       "      <th>Liquefied Recycle gas to R-310 dome top</th>\n",
       "      <th>Hydrogen Flow</th>\n",
       "      <th>Temperature controller</th>\n",
       "      <th>MFR</th>\n",
       "    </tr>\n",
       "  </thead>\n",
       "  <tbody>\n",
       "    <tr>\n",
       "      <th>0</th>\n",
       "      <td>04-05-2018 19:45</td>\n",
       "      <td>24856.584</td>\n",
       "      <td>0.153</td>\n",
       "      <td>30.414835</td>\n",
       "      <td>79.657906</td>\n",
       "      <td>50850.578</td>\n",
       "      <td>0.163994</td>\n",
       "      <td>80.399605</td>\n",
       "      <td>3.4</td>\n",
       "    </tr>\n",
       "    <tr>\n",
       "      <th>1</th>\n",
       "      <td>04-05-2018 21:45</td>\n",
       "      <td>25537.250</td>\n",
       "      <td>0.153</td>\n",
       "      <td>30.527121</td>\n",
       "      <td>78.532608</td>\n",
       "      <td>42229.813</td>\n",
       "      <td>0.129739</td>\n",
       "      <td>78.861328</td>\n",
       "      <td>3.2</td>\n",
       "    </tr>\n",
       "    <tr>\n",
       "      <th>2</th>\n",
       "      <td>04-05-2018 23:45</td>\n",
       "      <td>25689.266</td>\n",
       "      <td>0.153</td>\n",
       "      <td>30.356180</td>\n",
       "      <td>78.842636</td>\n",
       "      <td>45335.852</td>\n",
       "      <td>0.150003</td>\n",
       "      <td>78.818115</td>\n",
       "      <td>3.2</td>\n",
       "    </tr>\n",
       "    <tr>\n",
       "      <th>3</th>\n",
       "      <td>04-06-2018 01:45</td>\n",
       "      <td>25098.754</td>\n",
       "      <td>0.153</td>\n",
       "      <td>30.894308</td>\n",
       "      <td>79.173500</td>\n",
       "      <td>43077.016</td>\n",
       "      <td>0.151543</td>\n",
       "      <td>79.022720</td>\n",
       "      <td>3.1</td>\n",
       "    </tr>\n",
       "    <tr>\n",
       "      <th>4</th>\n",
       "      <td>04-06-2018 03:45</td>\n",
       "      <td>24853.941</td>\n",
       "      <td>0.150</td>\n",
       "      <td>30.680647</td>\n",
       "      <td>78.677299</td>\n",
       "      <td>40404.387</td>\n",
       "      <td>0.122582</td>\n",
       "      <td>79.038483</td>\n",
       "      <td>3.3</td>\n",
       "    </tr>\n",
       "  </tbody>\n",
       "</table>\n",
       "</div>"
      ],
      "text/plain": [
       "         Unnamed: 0  Propylene flow  Hydrogen ratio  Pressure controller  \\\n",
       "0  04-05-2018 19:45       24856.584           0.153            30.414835   \n",
       "1  04-05-2018 21:45       25537.250           0.153            30.527121   \n",
       "2  04-05-2018 23:45       25689.266           0.153            30.356180   \n",
       "3  04-06-2018 01:45       25098.754           0.153            30.894308   \n",
       "4  04-06-2018 03:45       24853.941           0.150            30.680647   \n",
       "\n",
       "   Level controller  Liquefied Recycle gas to R-310 dome top  Hydrogen Flow  \\\n",
       "0         79.657906                                50850.578       0.163994   \n",
       "1         78.532608                                42229.813       0.129739   \n",
       "2         78.842636                                45335.852       0.150003   \n",
       "3         79.173500                                43077.016       0.151543   \n",
       "4         78.677299                                40404.387       0.122582   \n",
       "\n",
       "   Temperature controller  MFR  \n",
       "0               80.399605  3.4  \n",
       "1               78.861328  3.2  \n",
       "2               78.818115  3.2  \n",
       "3               79.022720  3.1  \n",
       "4               79.038483  3.3  "
      ]
     },
     "execution_count": 6,
     "metadata": {},
     "output_type": "execute_result"
    }
   ],
   "source": [
    "data.head()"
   ]
  },
  {
   "cell_type": "code",
   "execution_count": 7,
   "metadata": {},
   "outputs": [],
   "source": [
    "data=data.drop('Unnamed: 0',axis=1)"
   ]
  },
  {
   "cell_type": "code",
   "execution_count": 8,
   "metadata": {
    "scrolled": false
   },
   "outputs": [
    {
     "data": {
      "text/plain": [
       "Propylene flow                             78\n",
       "Hydrogen ratio                              4\n",
       "Pressure controller                        80\n",
       "Level controller                           80\n",
       "Liquefied Recycle gas to R-310 dome top    80\n",
       "Hydrogen Flow                              78\n",
       "Temperature controller                     80\n",
       "MFR                                         0\n",
       "dtype: int64"
      ]
     },
     "execution_count": 8,
     "metadata": {},
     "output_type": "execute_result"
    }
   ],
   "source": [
    "pd.isnull(data).sum()"
   ]
  },
  {
   "cell_type": "code",
   "execution_count": 9,
   "metadata": {},
   "outputs": [],
   "source": [
    "from sklearn.impute import SimpleImputer\n",
    "mean_imputer = SimpleImputer(missing_values=np.nan, strategy='mean')"
   ]
  },
  {
   "cell_type": "code",
   "execution_count": 10,
   "metadata": {},
   "outputs": [],
   "source": [
    "data['Propylene flow'] = mean_imputer.fit_transform(data['Propylene flow'].values.reshape(-1,1))\n",
    "data['Hydrogen ratio'] = mean_imputer.fit_transform(data['Hydrogen ratio'].values.reshape(-1,1))\n",
    "data['Pressure controller'] = mean_imputer.fit_transform(data['Pressure controller'].values.reshape(-1,1))\n",
    "data['Level controller'] = mean_imputer.fit_transform(data['Level controller'].values.reshape(-1,1))\n",
    "data['Liquefied Recycle gas to R-310 dome top'] = mean_imputer.fit_transform(data['Liquefied Recycle gas to R-310 dome top'].values.reshape(-1,1))\n",
    "data['Hydrogen Flow'] = mean_imputer.fit_transform(data['Hydrogen Flow'].values.reshape(-1,1))\n",
    "data['Temperature controller'] = mean_imputer.fit_transform(data['Temperature controller'].values.reshape(-1,1))"
   ]
  },
  {
   "cell_type": "code",
   "execution_count": 11,
   "metadata": {},
   "outputs": [],
   "source": [
    "X = data.iloc[:, :-1]\n",
    "y = data.iloc[:, -1]"
   ]
  },
  {
   "cell_type": "code",
   "execution_count": 12,
   "metadata": {},
   "outputs": [],
   "source": [
    "from sklearn.model_selection import train_test_split\n",
    "X_train, X_test, y_train, y_test = train_test_split(X, y, test_size = 0.2,random_state=3)"
   ]
  },
  {
   "cell_type": "code",
   "execution_count": 13,
   "metadata": {},
   "outputs": [],
   "source": [
    "from sklearn.preprocessing import StandardScaler\n",
    "scaler = StandardScaler()\n",
    "scaler.fit(X_train)\n",
    "X_train_t = scaler.transform(X_train)\n",
    "X_test_t = scaler.transform(X_test)"
   ]
  },
  {
   "cell_type": "code",
   "execution_count": 14,
   "metadata": {},
   "outputs": [
    {
     "data": {
      "text/plain": [
       "DecisionTreeRegressor(ccp_alpha=0.0, criterion='mse', max_depth=None,\n",
       "                      max_features=None, max_leaf_nodes=None,\n",
       "                      min_impurity_decrease=0.0, min_impurity_split=None,\n",
       "                      min_samples_leaf=1, min_samples_split=2,\n",
       "                      min_weight_fraction_leaf=0.0, presort='deprecated',\n",
       "                      random_state=0, splitter='best')"
      ]
     },
     "execution_count": 14,
     "metadata": {},
     "output_type": "execute_result"
    }
   ],
   "source": [
    "from sklearn.tree import DecisionTreeRegressor\n",
    "regressor = DecisionTreeRegressor(random_state = 0)\n",
    "regressor.fit(X_train_t, y_train)"
   ]
  },
  {
   "cell_type": "code",
   "execution_count": 15,
   "metadata": {},
   "outputs": [],
   "source": [
    "y_pred=regressor.predict(X_test_t)"
   ]
  },
  {
   "cell_type": "code",
   "execution_count": 16,
   "metadata": {},
   "outputs": [
    {
     "data": {
      "text/plain": [
       "array([ 4.7       ,  4.4       , 16.8       , 14.8       , 17.2       ,\n",
       "        3.8       ,  3.2       ,  4.2       ,  3.7       ,  3.5       ,\n",
       "       12.4       , 11.5       ,  3.5       ,  3.9       , 13.19482759,\n",
       "        3.8       , 15.        , 11.4       ,  3.4       ,  3.5       ,\n",
       "       14.        ,  3.6       , 12.8       ,  3.8       ,  3.8       ,\n",
       "       11.1       , 13.8       , 14.        , 13.5       , 14.4       ,\n",
       "       13.19482759,  4.6       , 12.2       , 12.4       , 10.9       ,\n",
       "        4.4       , 12.5       , 10.7       ,  3.7       , 12.6       ,\n",
       "       13.8       ,  3.6       , 12.7       , 12.9       , 17.4       ,\n",
       "       12.5       , 13.2       , 10.        , 14.2       , 15.3       ,\n",
       "        3.5       ,  4.        , 10.7       ,  3.6       ,  4.        ,\n",
       "       12.7       ,  3.9       ,  3.6       , 13.3       ,  4.2       ,\n",
       "       13.6       ,  4.1       , 11.5       ,  3.2       ,  3.5       ,\n",
       "       13.5       , 13.5       , 12.2       , 14.5       ,  4.        ,\n",
       "       17.8       , 11.6       ,  3.4       ,  3.6       ,  4.        ,\n",
       "       12.7       ,  3.4       ,  3.5       , 13.19482759,  5.4       ,\n",
       "        3.6       ,  3.3       ,  3.5       , 16.3       ,  3.6       ,\n",
       "        3.6       ,  3.2       , 12.9       , 13.19482759,  4.1       ,\n",
       "       11.8       , 13.6       ,  3.4       , 11.4       ,  3.3       ,\n",
       "       13.2       , 11.8       ,  4.4       ,  3.9       ,  4.        ,\n",
       "        3.5       , 14.1       ,  3.6       ,  4.1       ,  4.        ,\n",
       "       16.1       ,  9.6       , 18.1       ,  3.6       , 11.4       ,\n",
       "        3.8       ,  4.1       , 13.1       , 12.7       , 14.5       ,\n",
       "        5.        , 10.5       ,  4.6       ,  3.8       ,  3.6       ,\n",
       "       19.4       ,  3.5       , 15.8       , 15.2       , 22.7       ,\n",
       "        4.6       ,  3.8       , 16.8       ,  3.9       ,  3.8       ,\n",
       "       12.3       , 19.9       ,  9.9       , 11.5       , 12.5       ,\n",
       "        3.9       , 13.6       ,  3.7       , 14.1       , 15.8       ,\n",
       "        3.        ,  3.9       , 13.19482759, 13.6       ,  9.2       ,\n",
       "       11.8       , 15.        ,  4.        ,  4.2       , 11.4       ,\n",
       "       11.2       ,  4.        ,  3.8       ,  4.        , 12.7       ,\n",
       "        4.1       , 12.5       , 14.3       ,  3.8       , 11.        ,\n",
       "       13.8       , 14.9       ,  3.7       ,  3.7       ,  3.7       ,\n",
       "        4.5       ,  5.9       , 14.        ,  3.5       ,  3.7       ,\n",
       "        3.6       , 10.1       ,  3.6       ,  3.4       ,  3.4       ,\n",
       "        3.8       , 23.3       ,  3.3       ,  3.4       ,  3.7       ,\n",
       "       13.4       ,  2.9       ,  4.        ,  3.8       , 10.7       ,\n",
       "       14.5       ,  3.8       ,  3.6       , 22.7       ,  3.7       ,\n",
       "       12.6       ,  3.6       ,  4.5       , 12.2       , 13.19482759,\n",
       "       13.6       ,  3.6       ,  4.5       , 10.6       , 13.19482759,\n",
       "       12.9       ,  3.7       ,  4.1       ,  3.8       , 13.19482759,\n",
       "       15.8       ,  3.6       , 12.1       ,  3.9       ,  3.6       ,\n",
       "       14.4       , 22.7       , 13.19482759, 14.3       , 16.        ,\n",
       "       12.7       , 14.3       ,  3.2       , 13.7       ,  3.7       ,\n",
       "        4.1       ,  4.1       ,  1.5       , 10.        , 11.4       ,\n",
       "        3.6       ,  3.4       , 13.7       ,  3.5       ,  5.3       ,\n",
       "       12.6       ,  5.7       ,  5.3       ,  3.6       , 15.9       ,\n",
       "       10.4       ,  3.9       ,  4.6       , 13.        , 12.5       ,\n",
       "       12.9       , 15.4       ,  3.8       , 13.19482759, 14.5       ,\n",
       "       13.5       , 23.3       ,  3.8       , 10.7       ,  3.8       ,\n",
       "       16.3       , 13.3       ,  3.7       , 10.9       , 13.19482759,\n",
       "        3.5       , 12.6       , 14.6       ,  3.6       ,  3.9       ,\n",
       "        3.5       ,  4.2       ,  4.        , 12.9       , 13.9       ,\n",
       "        3.6       , 12.4       , 17.8       , 14.        , 12.9       ,\n",
       "       17.4       ,  3.5       , 23.3       , 15.7       , 12.9       ,\n",
       "        3.9       , 12.6       , 19.4       ,  4.1       , 13.4       ,\n",
       "        3.9       ,  4.3       , 13.8       ,  4.3       , 14.2       ,\n",
       "       12.8       ,  4.3       ,  3.6       ,  1.5       ,  3.9       ,\n",
       "       35.        , 13.4       ,  3.2       ,  4.2       ,  4.3       ,\n",
       "       15.4       , 11.8       , 13.2       ,  3.8       , 12.8       ,\n",
       "        4.2       , 13.9       ,  4.1       ,  3.5       , 15.8       ,\n",
       "       13.6       , 13.3       ,  4.2       ,  3.9       ,  3.9       ,\n",
       "       12.9       , 14.8       , 12.9       ,  3.9       , 13.4       ,\n",
       "        4.        ,  4.3       ,  9.2       ,  3.6       ,  3.8       ,\n",
       "       23.        , 14.8       ,  3.9       , 16.8       ,  4.6       ,\n",
       "        5.3       , 14.2       ,  3.4       , 14.        ,  3.3       ,\n",
       "       13.        ,  1.7       , 13.5       , 10.1       ,  6.36666667,\n",
       "        3.9       , 11.6       , 13.7       ,  3.6       ,  3.6       ,\n",
       "        5.3       , 13.        , 13.7       , 10.3       ,  3.2       ,\n",
       "        3.7       , 12.5       ,  3.7       ,  3.4       , 13.6       ,\n",
       "        3.9       , 10.9       , 15.3       ,  3.4       ,  3.5       ,\n",
       "        3.9       , 15.7       ,  3.4       , 15.2       ,  3.6       ,\n",
       "        3.7       , 38.        , 13.19482759, 12.        , 13.19482759,\n",
       "       12.        ,  4.3       ,  3.7       , 14.        ,  4.2       ,\n",
       "       13.8       , 15.8       , 11.3       ,  3.        , 13.3       ,\n",
       "       13.5       ,  4.3       ,  3.6       ,  4.3       , 12.7       ,\n",
       "        3.9       , 14.4       , 12.9       ,  3.8       ,  3.9       ,\n",
       "       12.9       , 14.        ,  4.6       ,  3.        , 13.3       ,\n",
       "       11.4       , 13.5       , 13.19482759,  1.7       ,  4.1       ,\n",
       "        3.2       , 11.7       ,  3.5       ,  3.8       , 20.3       ,\n",
       "        3.8       ,  3.6       , 17.1       ,  4.3       ,  3.7       ,\n",
       "        3.9       , 10.7       , 13.5       , 13.        , 12.1       ,\n",
       "        3.2       ,  3.5       , 11.6       ,  3.5       , 15.3       ,\n",
       "       13.3       , 12.6       ,  4.5       , 13.3       , 10.        ,\n",
       "       19.8       ,  1.5       ,  3.3       , 12.7       , 14.5       ,\n",
       "        3.1       , 11.3       ,  3.9       ,  4.1       ,  4.3       ,\n",
       "        3.5       , 10.        ,  3.1       , 12.1       , 12.9       ,\n",
       "       16.3       ,  3.1       ,  4.3       , 14.5       , 12.2       ,\n",
       "       10.7       ,  3.9       ,  4.1       ,  9.8       , 13.1       ,\n",
       "        3.9       ,  4.1       ,  3.8       , 12.2       , 10.7       ,\n",
       "       15.2       , 15.8       ,  3.6       , 12.9       , 13.8       ,\n",
       "       12.2       , 15.1       , 13.        , 12.2       , 13.19482759,\n",
       "        3.7       ,  3.5       ,  3.7       ,  3.7       ,  3.4       ,\n",
       "       12.1       ,  3.9       ,  3.2       ,  4.        , 10.7       ,\n",
       "       14.8       , 14.8       , 10.4       , 15.        , 13.3       ,\n",
       "        3.7       ,  3.7       ,  3.7       ,  3.2       , 17.8       ,\n",
       "       19.9       , 11.8       ,  3.6       , 13.19482759, 14.6       ,\n",
       "        3.7       ,  4.3       ,  5.2       , 11.2       , 20.1       ,\n",
       "        3.2       ,  3.3       ,  5.2       ,  4.1       , 12.        ,\n",
       "       35.        ,  3.2       , 19.9       , 13.        ,  3.5       ,\n",
       "        3.5       ,  4.5       ,  3.8       ,  9.5       ,  3.5       ,\n",
       "        4.3       ,  3.6       , 13.3       ,  7.7       ,  4.1       ,\n",
       "        5.2       ,  4.3       ,  3.2       ])"
      ]
     },
     "execution_count": 16,
     "metadata": {},
     "output_type": "execute_result"
    }
   ],
   "source": [
    "y_pred"
   ]
  },
  {
   "cell_type": "code",
   "execution_count": 17,
   "metadata": {
    "scrolled": true
   },
   "outputs": [
    {
     "data": {
      "text/plain": [
       "346      6.4\n",
       "2335     4.6\n",
       "1038    13.6\n",
       "1051    19.8\n",
       "748     13.2\n",
       "        ... \n",
       "2385    14.2\n",
       "1360     4.6\n",
       "1416     3.8\n",
       "5        3.2\n",
       "586      4.0\n",
       "Name: MFR, Length: 513, dtype: float64"
      ]
     },
     "execution_count": 17,
     "metadata": {},
     "output_type": "execute_result"
    }
   ],
   "source": [
    "y_test"
   ]
  }
 ],
 "metadata": {
  "kernelspec": {
   "display_name": "Python 3",
   "language": "python",
   "name": "python3"
  },
  "language_info": {
   "codemirror_mode": {
    "name": "ipython",
    "version": 3
   },
   "file_extension": ".py",
   "mimetype": "text/x-python",
   "name": "python",
   "nbconvert_exporter": "python",
   "pygments_lexer": "ipython3",
   "version": "3.7.3"
  }
 },
 "nbformat": 4,
 "nbformat_minor": 2
}
